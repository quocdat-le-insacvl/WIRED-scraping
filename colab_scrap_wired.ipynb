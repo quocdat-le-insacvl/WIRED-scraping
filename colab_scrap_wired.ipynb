{
  "cells": [
    {
      "cell_type": "code",
      "execution_count": 1,
      "metadata": {
        "colab": {
          "base_uri": "https://localhost:8080/"
        },
        "id": "jnC4igEtkCpU",
        "outputId": "41471c30-71d2-4942-f846-b3cb5e760654"
      },
      "outputs": [
        {
          "name": "stdout",
          "output_type": "stream",
          "text": [
            "Looking in indexes: https://pypi.org/simple, https://us-python.pkg.dev/colab-wheels/public/simple/\n",
            "Collecting webdriver-manager\n",
            "  Downloading webdriver_manager-3.8.3-py2.py3-none-any.whl (26 kB)\n",
            "Collecting chromedriver-autoinstaller\n",
            "  Downloading chromedriver_autoinstaller-0.4.0-py3-none-any.whl (6.5 kB)\n",
            "Collecting selenium\n",
            "  Downloading selenium-4.4.3-py3-none-any.whl (985 kB)\n",
            "\u001b[K     |████████████████████████████████| 985 kB 7.4 MB/s \n",
            "\u001b[?25hRequirement already satisfied: requests in /usr/local/lib/python3.7/dist-packages (from webdriver-manager) (2.23.0)\n",
            "Requirement already satisfied: tqdm in /usr/local/lib/python3.7/dist-packages (from webdriver-manager) (4.64.0)\n",
            "Collecting python-dotenv\n",
            "  Downloading python_dotenv-0.20.0-py3-none-any.whl (17 kB)\n",
            "Collecting trio-websocket~=0.9\n",
            "  Downloading trio_websocket-0.9.2-py3-none-any.whl (16 kB)\n",
            "Collecting urllib3[socks]~=1.26\n",
            "  Downloading urllib3-1.26.11-py2.py3-none-any.whl (139 kB)\n",
            "\u001b[K     |████████████████████████████████| 139 kB 44.6 MB/s \n",
            "\u001b[?25hCollecting trio~=0.17\n",
            "  Downloading trio-0.21.0-py3-none-any.whl (358 kB)\n",
            "\u001b[K     |████████████████████████████████| 358 kB 46.9 MB/s \n",
            "\u001b[?25hRequirement already satisfied: certifi>=2021.10.8 in /usr/local/lib/python3.7/dist-packages (from selenium) (2022.6.15)\n",
            "Requirement already satisfied: sortedcontainers in /usr/local/lib/python3.7/dist-packages (from trio~=0.17->selenium) (2.4.0)\n",
            "Collecting async-generator>=1.9\n",
            "  Downloading async_generator-1.10-py3-none-any.whl (18 kB)\n",
            "Collecting sniffio\n",
            "  Downloading sniffio-1.2.0-py3-none-any.whl (10 kB)\n",
            "Requirement already satisfied: attrs>=19.2.0 in /usr/local/lib/python3.7/dist-packages (from trio~=0.17->selenium) (22.1.0)\n",
            "Collecting outcome\n",
            "  Downloading outcome-1.2.0-py2.py3-none-any.whl (9.7 kB)\n",
            "Requirement already satisfied: idna in /usr/local/lib/python3.7/dist-packages (from trio~=0.17->selenium) (2.10)\n",
            "Collecting wsproto>=0.14\n",
            "  Downloading wsproto-1.1.0-py3-none-any.whl (24 kB)\n",
            "Requirement already satisfied: PySocks!=1.5.7,<2.0,>=1.5.6 in /usr/local/lib/python3.7/dist-packages (from urllib3[socks]~=1.26->selenium) (1.7.1)\n",
            "Collecting h11<1,>=0.9.0\n",
            "  Downloading h11-0.13.0-py3-none-any.whl (58 kB)\n",
            "\u001b[K     |████████████████████████████████| 58 kB 5.7 MB/s \n",
            "\u001b[?25hRequirement already satisfied: typing-extensions in /usr/local/lib/python3.7/dist-packages (from h11<1,>=0.9.0->wsproto>=0.14->trio-websocket~=0.9->selenium) (4.1.1)\n",
            "Collecting requests\n",
            "  Downloading requests-2.28.1-py3-none-any.whl (62 kB)\n",
            "\u001b[K     |████████████████████████████████| 62 kB 1.5 MB/s \n",
            "\u001b[?25hRequirement already satisfied: charset-normalizer<3,>=2 in /usr/local/lib/python3.7/dist-packages (from requests->webdriver-manager) (2.1.0)\n",
            "Installing collected packages: sniffio, outcome, h11, async-generator, wsproto, urllib3, trio, trio-websocket, requests, python-dotenv, webdriver-manager, selenium, chromedriver-autoinstaller\n",
            "  Attempting uninstall: urllib3\n",
            "    Found existing installation: urllib3 1.24.3\n",
            "    Uninstalling urllib3-1.24.3:\n",
            "      Successfully uninstalled urllib3-1.24.3\n",
            "  Attempting uninstall: requests\n",
            "    Found existing installation: requests 2.23.0\n",
            "    Uninstalling requests-2.23.0:\n",
            "      Successfully uninstalled requests-2.23.0\n",
            "Successfully installed async-generator-1.10 chromedriver-autoinstaller-0.4.0 h11-0.13.0 outcome-1.2.0 python-dotenv-0.20.0 requests-2.28.1 selenium-4.4.3 sniffio-1.2.0 trio-0.21.0 trio-websocket-0.9.2 urllib3-1.26.11 webdriver-manager-3.8.3 wsproto-1.1.0\n",
            "Looking in indexes: https://pypi.org/simple, https://us-python.pkg.dev/colab-wheels/public/simple/\n",
            "Collecting EbookLib\n",
            "  Downloading EbookLib-0.17.1.tar.gz (111 kB)\n",
            "\u001b[K     |████████████████████████████████| 111 kB 5.0 MB/s \n",
            "\u001b[?25hRequirement already satisfied: lxml in /usr/local/lib/python3.7/dist-packages (from EbookLib) (4.9.1)\n",
            "Requirement already satisfied: six in /usr/local/lib/python3.7/dist-packages (from EbookLib) (1.15.0)\n",
            "Building wheels for collected packages: EbookLib\n",
            "  Building wheel for EbookLib (setup.py) ... \u001b[?25l\u001b[?25hdone\n",
            "  Created wheel for EbookLib: filename=EbookLib-0.17.1-py3-none-any.whl size=38184 sha256=42256c33aac81a7726a7c3990edf4cf85ce12c7e40f28996108ec688d2842d46\n",
            "  Stored in directory: /root/.cache/pip/wheels/43/39/fd/db4f652431a55d28472ba7f5f7c9a8efad03b97f443a48ea2f\n",
            "Successfully built EbookLib\n",
            "Installing collected packages: EbookLib\n",
            "Successfully installed EbookLib-0.17.1\n",
            "Get:1 https://cloud.r-project.org/bin/linux/ubuntu bionic-cran40/ InRelease [3,626 B]\n",
            "Ign:2 https://developer.download.nvidia.com/compute/machine-learning/repos/ubuntu1804/x86_64  InRelease\n",
            "Get:3 http://ppa.launchpad.net/c2d4u.team/c2d4u4.0+/ubuntu bionic InRelease [15.9 kB]\n",
            "Get:4 http://security.ubuntu.com/ubuntu bionic-security InRelease [88.7 kB]\n",
            "Get:5 https://developer.download.nvidia.com/compute/cuda/repos/ubuntu1804/x86_64  InRelease [1,581 B]\n",
            "Hit:6 https://developer.download.nvidia.com/compute/machine-learning/repos/ubuntu1804/x86_64  Release\n",
            "Hit:7 http://archive.ubuntu.com/ubuntu bionic InRelease\n",
            "Get:8 http://archive.ubuntu.com/ubuntu bionic-updates InRelease [88.7 kB]\n",
            "Get:9 https://developer.download.nvidia.com/compute/cuda/repos/ubuntu1804/x86_64  Packages [910 kB]\n",
            "Hit:10 http://ppa.launchpad.net/cran/libgit2/ubuntu bionic InRelease\n",
            "Hit:12 http://ppa.launchpad.net/deadsnakes/ppa/ubuntu bionic InRelease\n",
            "Get:13 http://archive.ubuntu.com/ubuntu bionic-backports InRelease [74.6 kB]\n",
            "Hit:14 http://ppa.launchpad.net/graphics-drivers/ppa/ubuntu bionic InRelease\n",
            "Get:15 http://ppa.launchpad.net/c2d4u.team/c2d4u4.0+/ubuntu bionic/main Sources [2,095 kB]\n",
            "Get:16 http://security.ubuntu.com/ubuntu bionic-security/universe amd64 Packages [1,533 kB]\n",
            "Get:17 http://archive.ubuntu.com/ubuntu bionic-updates/universe amd64 Packages [2,311 kB]\n",
            "Get:18 http://security.ubuntu.com/ubuntu bionic-security/main amd64 Packages [2,937 kB]\n",
            "Get:19 http://ppa.launchpad.net/c2d4u.team/c2d4u4.0+/ubuntu bionic/main amd64 Packages [1,073 kB]\n",
            "Get:20 http://archive.ubuntu.com/ubuntu bionic-updates/main amd64 Packages [3,369 kB]\n",
            "Fetched 14.5 MB in 4s (4,098 kB/s)\n",
            "Reading package lists... Done\n",
            "Reading package lists... Done\n",
            "Building dependency tree       \n",
            "Reading state information... Done\n",
            "The following package was automatically installed and is no longer required:\n",
            "  libnvidia-common-460\n",
            "Use 'apt autoremove' to remove it.\n",
            "The following additional packages will be installed:\n",
            "  chromium-browser chromium-browser-l10n chromium-codecs-ffmpeg-extra\n",
            "Suggested packages:\n",
            "  webaccounts-chromium-extension unity-chromium-extension\n",
            "The following NEW packages will be installed:\n",
            "  chromium-browser chromium-browser-l10n chromium-chromedriver\n",
            "  chromium-codecs-ffmpeg-extra\n",
            "0 upgraded, 4 newly installed, 0 to remove and 25 not upgraded.\n",
            "Need to get 90.4 MB of archives.\n",
            "After this operation, 306 MB of additional disk space will be used.\n",
            "Get:1 http://archive.ubuntu.com/ubuntu bionic-updates/universe amd64 chromium-codecs-ffmpeg-extra amd64 103.0.5060.134-0ubuntu0.18.04.1 [1,160 kB]\n",
            "Get:2 http://archive.ubuntu.com/ubuntu bionic-updates/universe amd64 chromium-browser amd64 103.0.5060.134-0ubuntu0.18.04.1 [79.0 MB]\n",
            "Get:3 http://archive.ubuntu.com/ubuntu bionic-updates/universe amd64 chromium-browser-l10n all 103.0.5060.134-0ubuntu0.18.04.1 [5,043 kB]\n",
            "Get:4 http://archive.ubuntu.com/ubuntu bionic-updates/universe amd64 chromium-chromedriver amd64 103.0.5060.134-0ubuntu0.18.04.1 [5,202 kB]\n",
            "Fetched 90.4 MB in 5s (19.7 MB/s)\n",
            "Selecting previously unselected package chromium-codecs-ffmpeg-extra.\n",
            "(Reading database ... 155676 files and directories currently installed.)\n",
            "Preparing to unpack .../chromium-codecs-ffmpeg-extra_103.0.5060.134-0ubuntu0.18.04.1_amd64.deb ...\n",
            "Unpacking chromium-codecs-ffmpeg-extra (103.0.5060.134-0ubuntu0.18.04.1) ...\n",
            "Selecting previously unselected package chromium-browser.\n",
            "Preparing to unpack .../chromium-browser_103.0.5060.134-0ubuntu0.18.04.1_amd64.deb ...\n",
            "Unpacking chromium-browser (103.0.5060.134-0ubuntu0.18.04.1) ...\n",
            "Selecting previously unselected package chromium-browser-l10n.\n",
            "Preparing to unpack .../chromium-browser-l10n_103.0.5060.134-0ubuntu0.18.04.1_all.deb ...\n",
            "Unpacking chromium-browser-l10n (103.0.5060.134-0ubuntu0.18.04.1) ...\n",
            "Selecting previously unselected package chromium-chromedriver.\n",
            "Preparing to unpack .../chromium-chromedriver_103.0.5060.134-0ubuntu0.18.04.1_amd64.deb ...\n",
            "Unpacking chromium-chromedriver (103.0.5060.134-0ubuntu0.18.04.1) ...\n",
            "Setting up chromium-codecs-ffmpeg-extra (103.0.5060.134-0ubuntu0.18.04.1) ...\n",
            "Setting up chromium-browser (103.0.5060.134-0ubuntu0.18.04.1) ...\n",
            "update-alternatives: using /usr/bin/chromium-browser to provide /usr/bin/x-www-browser (x-www-browser) in auto mode\n",
            "update-alternatives: using /usr/bin/chromium-browser to provide /usr/bin/gnome-www-browser (gnome-www-browser) in auto mode\n",
            "Setting up chromium-chromedriver (103.0.5060.134-0ubuntu0.18.04.1) ...\n",
            "Setting up chromium-browser-l10n (103.0.5060.134-0ubuntu0.18.04.1) ...\n",
            "Processing triggers for man-db (2.8.3-2ubuntu0.1) ...\n",
            "Processing triggers for hicolor-icon-theme (0.17-2) ...\n",
            "Processing triggers for mime-support (3.60ubuntu1) ...\n",
            "Processing triggers for libc-bin (2.27-3ubuntu1.5) ...\n",
            "cp: '/usr/lib/chromium-browser/chromedriver' and '/usr/bin/chromedriver' are the same file\n"
          ]
        }
      ],
      "source": [
        "!python -m pip install webdriver-manager chromedriver-autoinstaller selenium\n",
        "!pip install EbookLib\n",
        "!apt-get update # to update ubuntu to correctly run apt install\n",
        "!apt install chromium-chromedriver\n",
        "!cp /usr/lib/chromium-browser/chromedriver /usr/bin\n",
        "import sys\n",
        "sys.path.insert(0,'/usr/lib/chromium-browser/chromedriver')"
      ]
    },
    {
      "cell_type": "code",
      "execution_count": 2,
      "metadata": {
        "id": "oNuUH-FEkCpZ"
      },
      "outputs": [],
      "source": [
        "import requests, uuid, json\n",
        "from time import sleep\n",
        "from tqdm import tqdm\n",
        "\n",
        "# Add your subscription key and endpoint\n",
        "subscription_key = \"1d79a0c2bf56409f8f63f51dc388dbe2\"\n",
        "endpoint = \"https://api.cognitive.microsofttranslator.com\"\n",
        "\n",
        "# Add your location, also known as region. The default is global.\n",
        "# This is required if using a Cognitive Services resource.\n",
        "location = \"eastus\"\n",
        "\n",
        "path = '/translate'\n",
        "constructed_url = endpoint + path\n",
        "\n",
        "params = {\n",
        "    'api-version': '3.0',\n",
        "    'from': 'en',\n",
        "    'to': 'vi',\n",
        "}\n",
        "constructed_url = endpoint + path\n",
        "\n",
        "headers = {\n",
        "    'Ocp-Apim-Subscription-Key': subscription_key,\n",
        "    'Ocp-Apim-Subscription-Region': location,\n",
        "    'Content-type': 'application/json',\n",
        "    'X-ClientTraceId': str(uuid.uuid4())\n",
        "}"
      ]
    },
    {
      "cell_type": "code",
      "execution_count": 3,
      "metadata": {
        "id": "YFokwMFykCpa"
      },
      "outputs": [],
      "source": [
        "size_text = 0\n",
        "def by_microsoft(translation):\n",
        "    global size_text\n",
        "    size_text += len(translation)\n",
        "    body = [{\n",
        "        'text': translation, \n",
        "    }]\n",
        "\n",
        "    request = requests.post(constructed_url, params=params, headers=headers, json=body)\n",
        "    response = request.json()\n",
        "    response = response[0]['translations'][0]['text']\n",
        "    translated = []\n",
        "    eng = translation.split('.')\n",
        "    vi = response.split('.')\n",
        "    for i in range(len(eng)):\n",
        "        translated.append('\\n\\n\\n' + eng[i])\n",
        "        if i < len(vi):\n",
        "            translated.append('\\n\\n' + vi[i])\n",
        "    return '.'.join(translated)"
      ]
    },
    {
      "cell_type": "code",
      "execution_count": 4,
      "metadata": {
        "id": "iqOLFWtJkCpb"
      },
      "outputs": [],
      "source": [
        "import requests\n",
        "from selenium import webdriver\n",
        "from selenium.webdriver.common.by import By\n",
        "from selenium.webdriver.common.keys import Keys\n",
        "from bs4 import BeautifulSoup\n",
        "from time import sleep\n",
        "import urllib.request\n",
        "import shutil\n",
        "\n",
        "import json\n",
        "import numpy as np\n",
        "import pandas as pd\n",
        "import re\n",
        "import os\n",
        "import datetime\n",
        "\n",
        "from selenium.webdriver.chrome.options import Options\n",
        "from selenium.webdriver.chrome.service import Service\n",
        "from webdriver_manager.chrome import ChromeDriverManager\n",
        "\n",
        "import email, smtplib, ssl\n",
        "\n",
        "from email import encoders\n",
        "from email.mime.base import MIMEBase\n",
        "from email.mime.multipart import MIMEMultipart\n",
        "from email.mime.text import MIMEText\n",
        "\n",
        "from ebooklib import epub\n",
        "from datetime import datetime\n",
        "from google.colab import files\n",
        "\n",
        "\n",
        "chrome_options = Options()\n",
        "chrome_options.add_argument(\"--headless\")\n",
        "chrome_options.add_argument('--window-size=1920,1080')\n",
        "chrome_options.add_argument('--no-sandbox')\n",
        "chrome_options.add_argument('--disable-dev-shm-usage')\n",
        "driver = webdriver.Chrome('chromedriver', options=chrome_options)\n",
        "\n",
        "# driver = webdriver.Chrome()\n",
        "driver.get('https://www.wired.com/')\n",
        "\n",
        "def xpath_send_key(xpath_, string_):\n",
        "    driver.find_element(By.XPATH, xpath_).send_keys(string_)\n",
        "\n",
        "def xpath_click(xpath_):\n",
        "    driver.find_element(By.XPATH, xpath_).click()"
      ]
    },
    {
      "cell_type": "code",
      "execution_count": 5,
      "metadata": {
        "colab": {
          "base_uri": "https://localhost:8080/"
        },
        "id": "Erc3I8C9kCpc",
        "outputId": "482d1be0-6034-45e2-8e46-7d0bc21a4eec"
      },
      "outputs": [
        {
          "data": {
            "text/plain": [
              "{'/1994/09/moon-land/',\n",
              " '/2009/11/ff-vanish2/',\n",
              " '/2014/08/the-most-fascinating-profile-youll-ever-read-about-a-guy-and-his-boring-startup/',\n",
              " '/gallery/best-college-and-dorm-essentials-gear/',\n",
              " '/gallery/best-monitors/',\n",
              " '/gallery/best-office-chairs/',\n",
              " '/gallery/best-travel-adapters',\n",
              " '/gallery/the-best-backpacks-for-work/',\n",
              " '/review/google-pixel-buds-pro/',\n",
              " '/review/insta360-one-rs-1-inch-360-edition/',\n",
              " '/story/advertising-services-devices-rant/',\n",
              " '/story/apple-ios-vpn-data-leak',\n",
              " '/story/artists-rage-against-machines-that-mimic-their-work/',\n",
              " '/story/as-wildfires-get-more-extreme-observatories-are-at-greater-risk/',\n",
              " '/story/back-to-school-deals-2022/',\n",
              " '/story/best-rapid-at-home-covid-19-test-kits/',\n",
              " '/story/best-student-discounts/',\n",
              " '/story/big-business-burying-carbon-dioxide-capture-storage/',\n",
              " '/story/drought-causing-floods/',\n",
              " '/story/game-of-thrones-vs-lord-of-the-rings-streaming-wars',\n",
              " '/story/how-inflation-reduction-act-climate-bill-save-you-money/',\n",
              " '/story/inside-google-three-years-misery-happiest-company-tech/',\n",
              " '/story/is-coal-mining-increasing-east-kentuckys-flood-risk/',\n",
              " '/story/karl-friston-free-energy-principle-artificial-intelligence/',\n",
              " '/story/pentagon-data-profit-freedom-information-of-information-act/',\n",
              " '/story/plaintext-turns-out-you-own-nothing',\n",
              " '/story/race-to-engineer-new-psychedelic-drugs/',\n",
              " '/story/rewired-green-2022-climate-conference/',\n",
              " '/story/skateboarding-buying-guide/',\n",
              " '/story/the-curious-afterlife-of-a-brain-trauma-survivor/',\n",
              " '/story/the-double-life-of-invasive-sea-lampreys/',\n",
              " '/story/the-new-climate-bill-demands-all-american-ev-batteries/',\n",
              " '/story/why-is-final-fantasy-bad-yoshida-struggling'}"
            ]
          },
          "execution_count": 5,
          "metadata": {},
          "output_type": "execute_result"
        }
      ],
      "source": [
        "soup = BeautifulSoup(driver.page_source, 'html.parser')\n",
        "articles = set()\n",
        "for s in soup.find_all('a', {'data-recirc-pattern': 'summary-item'}):\n",
        "    if 'https' not in s['href']:\n",
        "        articles.add(s['href'])\n",
        "articles"
      ]
    },
    {
      "cell_type": "code",
      "execution_count": 6,
      "metadata": {
        "id": "a-Smdu6GkCpd"
      },
      "outputs": [],
      "source": [
        "def scrap_article():\n",
        "    soup = BeautifulSoup(driver.page_source, 'html.parser')\n",
        "    title = soup.find('main').find('h1').text\n",
        "\n",
        "    forbidden_char = ['<', '>', ':', '\"', \"'\", '/', '\\\\', '|', '?', '*']\n",
        "\n",
        "    file_name = title + '.txt'\n",
        "    for c in forbidden_char:\n",
        "        file_name = file_name.replace(c, '_')\n",
        "\n",
        "    if file_name in os.listdir('articles/'):\n",
        "        return None\n",
        "\n",
        "    need_translatation = \"\"\n",
        "    for s in soup.find_all('div', {'class':'body__inner-container'}):\n",
        "        for paragraph in s.find_all('p'):\n",
        "            need_translatation += paragraph.text\n",
        "    try:\n",
        "        translated = by_microsoft(need_translatation)\n",
        "    except Exception as e:\n",
        "        print(e)\n",
        "        return None\n",
        "    \n",
        "    f = open('articles/' + file_name, 'w', encoding='utf-8')\n",
        "    f.write('# ' + '<h1>' + title + '</h1>'  + '\\n')\n",
        "    f.write(translated)\n",
        "    f.close()\n",
        "    \n",
        "    return (title, translated)"
      ]
    },
    {
      "cell_type": "code",
      "execution_count": 7,
      "metadata": {
        "id": "NtrQ1Uh-X2e3"
      },
      "outputs": [],
      "source": [
        "def send_to_kindle(sender_email, password, receiver_email, filename):\n",
        "\n",
        "\n",
        "    subject = \"Test\"\n",
        "    body = \"This is an email with attachment sent from Python\"\n",
        "\n",
        "    # Create a multipart message and set headers\n",
        "    message = MIMEMultipart()\n",
        "    message[\"From\"] = sender_email\n",
        "    message[\"To\"] = receiver_email\n",
        "    message[\"Subject\"] = subject\n",
        "    message[\"Bcc\"] = receiver_email  # Recommended for mass emails\n",
        "\n",
        "    # Add body to email\n",
        "    message.attach(MIMEText(body, \"plain\"))\n",
        "\n",
        "    # Open PDF file in binary mode\n",
        "    with open(filename, \"rb\") as attachment:\n",
        "        # Add file as application/octet-stream\n",
        "        # Email client can usually download this automatically as attachment\n",
        "        part = MIMEBase(\"application\", \"octet-stream\")\n",
        "        part.set_payload(attachment.read())\n",
        "\n",
        "    # Encode file in ASCII characters to send by email    \n",
        "    encoders.encode_base64(part)\n",
        "\n",
        "    # Add header as key/value pair to attachment part\n",
        "    part.add_header(\n",
        "        \"Content-Disposition\",\n",
        "        f\"attachment; filename= {filename}\",\n",
        "    )\n",
        "\n",
        "    # Add attachment to message and convert message to string\n",
        "    message.attach(part)\n",
        "    text = message.as_string()\n",
        "\n",
        "    # Log in to server using secure context and send email\n",
        "    context = ssl.create_default_context()\n",
        "    with smtplib.SMTP_SSL(\"smtp.gmail.com\", 465, context=context) as server:\n",
        "        server.login(sender_email, password)\n",
        "        server.sendmail(sender_email, receiver_email, text)\n"
      ]
    },
    {
      "cell_type": "code",
      "execution_count": 8,
      "metadata": {
        "id": "y-5_B1Xkp7I6"
      },
      "outputs": [],
      "source": [
        "NOW = datetime.now().strftime(\n",
        "    \"%d_%m%Y___%H_%M_%S\"\n",
        ")\n",
        "def create_ebook():\n",
        "    book = epub.EpubBook()\n",
        "\n",
        "    # set metadata\n",
        "    book.set_title(NOW)\n",
        "    book.set_language('en')\n",
        "\n",
        "    return book\n",
        "\n",
        "def add_chapter(book, title, content, chapter_num):\n",
        "\n",
        "    chapter_num = 'chap_0' + str(chapter_num) +'.xhtml'\n",
        "    # create chapter\n",
        "    chapter = epub.EpubHtml(title=title, file_name=chapter_num)\n",
        "    chapter.content=u'<h1>' + title + u'</h1>' + u'<p>' + content + u'</p>'\n",
        "\n",
        "    # add chapter\n",
        "    book.add_item(chapter)\n",
        "\n",
        "    return book, chapter\n",
        "\n",
        "\n",
        "def generate_toc(book, chapters):\n",
        "    # define Table Of Contents\n",
        "    book.toc = (chapters)\n",
        "\n",
        "    # add default NCX and Nav file\n",
        "    book.add_item(epub.EpubNcx())\n",
        "    book.add_item(epub.EpubNav())\n",
        "\n",
        "    # define CSS style\n",
        "    style = 'BODY {color: white;}'\n",
        "    nav_css = epub.EpubItem(uid=\"style_nav\", file_name=\"style/nav.css\", media_type=\"text/css\", content=style)\n",
        "\n",
        "    # add CSS file\n",
        "    book.add_item(nav_css)\n",
        "\n",
        "    print(type(chapters))\n",
        "    # basic spine\n",
        "    book.spine = ['nav', *chapters]\n",
        "    \n",
        "    return book\n",
        "\n",
        "\n",
        "def export_ebook(book, fname):\n",
        "    # write to the file\n",
        "    epub.write_epub(fname, book, {})\n"
      ]
    },
    {
      "cell_type": "code",
      "execution_count": 9,
      "metadata": {
        "colab": {
          "base_uri": "https://localhost:8080/"
        },
        "id": "VPpDP8IbkCpd",
        "outputId": "8c7dbb1b-26c1-4741-9640-279dd7f66c07"
      },
      "outputs": [
        {
          "name": "stderr",
          "output_type": "stream",
          "text": [
            "\r  0%|          | 0/33 [00:00<?, ?it/s]"
          ]
        },
        {
          "name": "stdout",
          "output_type": "stream",
          "text": [
            "/review/google-pixel-buds-pro/\n"
          ]
        },
        {
          "name": "stderr",
          "output_type": "stream",
          "text": [
            "\r  3%|▎         | 1/33 [00:08<04:29,  8.42s/it]"
          ]
        },
        {
          "name": "stdout",
          "output_type": "stream",
          "text": [
            "/gallery/best-travel-adapters\n"
          ]
        },
        {
          "name": "stderr",
          "output_type": "stream",
          "text": [
            "\r  6%|▌         | 2/33 [00:48<14:06, 27.29s/it]"
          ]
        },
        {
          "name": "stdout",
          "output_type": "stream",
          "text": [
            "/story/apple-ios-vpn-data-leak\n"
          ]
        },
        {
          "name": "stderr",
          "output_type": "stream",
          "text": [
            "\r  9%|▉         | 3/33 [01:11<12:30, 25.01s/it]"
          ]
        },
        {
          "name": "stdout",
          "output_type": "stream",
          "text": [
            "/gallery/best-college-and-dorm-essentials-gear/\n"
          ]
        },
        {
          "name": "stderr",
          "output_type": "stream",
          "text": [
            "\r 12%|█▏        | 4/33 [01:39<12:40, 26.22s/it]"
          ]
        },
        {
          "name": "stdout",
          "output_type": "stream",
          "text": [
            "/story/the-double-life-of-invasive-sea-lampreys/\n"
          ]
        },
        {
          "name": "stderr",
          "output_type": "stream",
          "text": [
            "\r 15%|█▌        | 5/33 [02:07<12:34, 26.96s/it]"
          ]
        },
        {
          "name": "stdout",
          "output_type": "stream",
          "text": [
            "/story/pentagon-data-profit-freedom-information-of-information-act/\n"
          ]
        },
        {
          "name": "stderr",
          "output_type": "stream",
          "text": [
            "\r 18%|█▊        | 6/33 [02:45<13:47, 30.66s/it]"
          ]
        },
        {
          "name": "stdout",
          "output_type": "stream",
          "text": [
            "/story/race-to-engineer-new-psychedelic-drugs/\n"
          ]
        },
        {
          "name": "stderr",
          "output_type": "stream",
          "text": [
            "\r 21%|██        | 7/33 [03:13<12:54, 29.78s/it]"
          ]
        },
        {
          "name": "stdout",
          "output_type": "stream",
          "text": [
            "/story/is-coal-mining-increasing-east-kentuckys-flood-risk/\n"
          ]
        },
        {
          "name": "stderr",
          "output_type": "stream",
          "text": [
            "\r 24%|██▍       | 8/33 [03:35<11:20, 27.22s/it]"
          ]
        },
        {
          "name": "stdout",
          "output_type": "stream",
          "text": [
            "/story/game-of-thrones-vs-lord-of-the-rings-streaming-wars\n"
          ]
        },
        {
          "name": "stderr",
          "output_type": "stream",
          "text": [
            "\r 27%|██▋       | 9/33 [04:09<11:47, 29.49s/it]"
          ]
        },
        {
          "name": "stdout",
          "output_type": "stream",
          "text": [
            "/1994/09/moon-land/\n"
          ]
        },
        {
          "name": "stderr",
          "output_type": "stream",
          "text": [
            "\r 30%|███       | 10/33 [04:46<12:13, 31.88s/it]"
          ]
        },
        {
          "name": "stdout",
          "output_type": "stream",
          "text": [
            "/story/advertising-services-devices-rant/\n"
          ]
        },
        {
          "name": "stderr",
          "output_type": "stream",
          "text": [
            "\r 33%|███▎      | 11/33 [04:57<09:21, 25.53s/it]"
          ]
        },
        {
          "name": "stdout",
          "output_type": "stream",
          "text": [
            "/story/inside-google-three-years-misery-happiest-company-tech/\n"
          ]
        },
        {
          "name": "stderr",
          "output_type": "stream",
          "text": [
            "\r 36%|███▋      | 12/33 [05:33<09:57, 28.46s/it]"
          ]
        },
        {
          "name": "stdout",
          "output_type": "stream",
          "text": [
            "0\n",
            "/story/karl-friston-free-energy-principle-artificial-intelligence/\n"
          ]
        },
        {
          "name": "stderr",
          "output_type": "stream",
          "text": [
            "\r 39%|███▉      | 13/33 [06:18<11:11, 33.55s/it]"
          ]
        },
        {
          "name": "stdout",
          "output_type": "stream",
          "text": [
            "/story/drought-causing-floods/\n"
          ]
        },
        {
          "name": "stderr",
          "output_type": "stream",
          "text": [
            "\r 42%|████▏     | 14/33 [06:51<10:36, 33.51s/it]"
          ]
        },
        {
          "name": "stdout",
          "output_type": "stream",
          "text": [
            "/story/rewired-green-2022-climate-conference/\n"
          ]
        },
        {
          "name": "stderr",
          "output_type": "stream",
          "text": [
            "\r 45%|████▌     | 15/33 [07:24<09:58, 33.23s/it]"
          ]
        },
        {
          "name": "stdout",
          "output_type": "stream",
          "text": [
            "/review/insta360-one-rs-1-inch-360-edition/\n"
          ]
        },
        {
          "name": "stderr",
          "output_type": "stream",
          "text": [
            "\r 48%|████▊     | 16/33 [07:30<07:08, 25.19s/it]"
          ]
        },
        {
          "name": "stdout",
          "output_type": "stream",
          "text": [
            "/story/artists-rage-against-machines-that-mimic-their-work/\n"
          ]
        },
        {
          "name": "stderr",
          "output_type": "stream",
          "text": [
            "\r 52%|█████▏    | 17/33 [07:53<06:29, 24.34s/it]"
          ]
        },
        {
          "name": "stdout",
          "output_type": "stream",
          "text": [
            "/story/how-inflation-reduction-act-climate-bill-save-you-money/\n"
          ]
        },
        {
          "name": "stderr",
          "output_type": "stream",
          "text": [
            "\r 55%|█████▍    | 18/33 [08:14<05:53, 23.55s/it]"
          ]
        },
        {
          "name": "stdout",
          "output_type": "stream",
          "text": [
            "/story/best-student-discounts/\n"
          ]
        },
        {
          "name": "stderr",
          "output_type": "stream",
          "text": [
            "\r 58%|█████▊    | 19/33 [08:54<06:38, 28.49s/it]"
          ]
        },
        {
          "name": "stdout",
          "output_type": "stream",
          "text": [
            "/story/plaintext-turns-out-you-own-nothing\n"
          ]
        },
        {
          "name": "stderr",
          "output_type": "stream",
          "text": [
            "\r 61%|██████    | 20/33 [09:21<06:01, 27.78s/it]"
          ]
        },
        {
          "name": "stdout",
          "output_type": "stream",
          "text": [
            "0\n",
            "/story/the-curious-afterlife-of-a-brain-trauma-survivor/\n"
          ]
        },
        {
          "name": "stderr",
          "output_type": "stream",
          "text": [
            "\r 64%|██████▎   | 21/33 [09:51<05:41, 28.47s/it]"
          ]
        },
        {
          "name": "stdout",
          "output_type": "stream",
          "text": [
            "/story/skateboarding-buying-guide/\n"
          ]
        },
        {
          "name": "stderr",
          "output_type": "stream",
          "text": [
            "\r 67%|██████▋   | 22/33 [10:29<05:45, 31.44s/it]"
          ]
        },
        {
          "name": "stdout",
          "output_type": "stream",
          "text": [
            "0\n",
            "/gallery/the-best-backpacks-for-work/\n"
          ]
        },
        {
          "name": "stderr",
          "output_type": "stream",
          "text": [
            "\r 70%|██████▉   | 23/33 [11:09<05:38, 33.87s/it]"
          ]
        },
        {
          "name": "stdout",
          "output_type": "stream",
          "text": [
            "0\n",
            "/2014/08/the-most-fascinating-profile-youll-ever-read-about-a-guy-and-his-boring-startup/\n"
          ]
        },
        {
          "name": "stderr",
          "output_type": "stream",
          "text": [
            "\r 73%|███████▎  | 24/33 [11:48<05:20, 35.64s/it]"
          ]
        },
        {
          "name": "stdout",
          "output_type": "stream",
          "text": [
            "0\n",
            "/story/back-to-school-deals-2022/\n"
          ]
        },
        {
          "name": "stderr",
          "output_type": "stream",
          "text": [
            "\r 76%|███████▌  | 25/33 [11:59<03:46, 28.26s/it]"
          ]
        },
        {
          "name": "stdout",
          "output_type": "stream",
          "text": [
            "0\n",
            "/2009/11/ff-vanish2/\n"
          ]
        },
        {
          "name": "stderr",
          "output_type": "stream",
          "text": [
            "\r 79%|███████▉  | 26/33 [12:42<03:48, 32.70s/it]"
          ]
        },
        {
          "name": "stdout",
          "output_type": "stream",
          "text": [
            "0\n",
            "/story/big-business-burying-carbon-dioxide-capture-storage/\n"
          ]
        },
        {
          "name": "stderr",
          "output_type": "stream",
          "text": [
            "\r 82%|████████▏ | 27/33 [12:59<02:47, 27.89s/it]"
          ]
        },
        {
          "name": "stdout",
          "output_type": "stream",
          "text": [
            "0\n",
            "/story/why-is-final-fantasy-bad-yoshida-struggling\n"
          ]
        },
        {
          "name": "stderr",
          "output_type": "stream",
          "text": [
            "\r 85%|████████▍ | 28/33 [13:32<02:26, 29.36s/it]"
          ]
        },
        {
          "name": "stdout",
          "output_type": "stream",
          "text": [
            "0\n",
            "/gallery/best-monitors/\n"
          ]
        },
        {
          "name": "stderr",
          "output_type": "stream",
          "text": [
            "\r 88%|████████▊ | 29/33 [14:11<02:09, 32.36s/it]"
          ]
        },
        {
          "name": "stdout",
          "output_type": "stream",
          "text": [
            "0\n",
            "/story/the-new-climate-bill-demands-all-american-ev-batteries/\n"
          ]
        },
        {
          "name": "stderr",
          "output_type": "stream",
          "text": [
            "\r 91%|█████████ | 30/33 [14:21<01:17, 25.71s/it]"
          ]
        },
        {
          "name": "stdout",
          "output_type": "stream",
          "text": [
            "0\n",
            "/story/best-rapid-at-home-covid-19-test-kits/\n"
          ]
        },
        {
          "name": "stderr",
          "output_type": "stream",
          "text": [
            "\r 94%|█████████▍| 31/33 [15:03<01:01, 30.52s/it]"
          ]
        },
        {
          "name": "stdout",
          "output_type": "stream",
          "text": [
            "0\n",
            "/gallery/best-office-chairs/\n"
          ]
        },
        {
          "name": "stderr",
          "output_type": "stream",
          "text": [
            "\r 97%|█████████▋| 32/33 [15:45<00:34, 34.01s/it]"
          ]
        },
        {
          "name": "stdout",
          "output_type": "stream",
          "text": [
            "0\n",
            "/story/as-wildfires-get-more-extreme-observatories-are-at-greater-risk/\n"
          ]
        },
        {
          "name": "stderr",
          "output_type": "stream",
          "text": [
            "100%|██████████| 33/33 [16:13<00:00, 29.49s/it]"
          ]
        },
        {
          "name": "stdout",
          "output_type": "stream",
          "text": [
            "0\n",
            "<class 'tuple'>\n"
          ]
        },
        {
          "name": "stderr",
          "output_type": "stream",
          "text": [
            "\n"
          ]
        }
      ],
      "source": [
        "based_url = 'https://www.wired.com'\n",
        "\n",
        "os.makedirs('articles', exist_ok=True)\n",
        "\n",
        "book = create_ebook()\n",
        "chapters = []\n",
        "i = 1\n",
        "for article in tqdm(articles):\n",
        "    print(article)\n",
        "    driver.get(based_url + article)\n",
        "    if 'I Accept' in str(BeautifulSoup(driver.page_source, 'html.parser')):\n",
        "        xpath_click('//*[@id=\"onetrust-accept-btn-handler\"]')\n",
        "    scraped = scrap_article()\n",
        "    if scraped:\n",
        "        title, translated = scraped\n",
        "        book, chapter = add_chapter(book, title, translated, i)\n",
        "        i += 1\n",
        "\n",
        "        chapters.append(chapter)\n",
        "\n",
        "book = generate_toc(book, tuple(chapters))\n",
        "fout =  NOW + '.epub'\n",
        "export_ebook(book, fout)\n"
      ]
    },
    {
      "cell_type": "code",
      "execution_count": 10,
      "metadata": {
        "colab": {
          "base_uri": "https://localhost:8080/",
          "height": 17
        },
        "id": "Lq4RhIwArJ6l",
        "outputId": "5dee87ba-a40e-44b0-edc7-35f609026669"
      },
      "outputs": [
        {
          "data": {
            "application/javascript": "\n    async function download(id, filename, size) {\n      if (!google.colab.kernel.accessAllowed) {\n        return;\n      }\n      const div = document.createElement('div');\n      const label = document.createElement('label');\n      label.textContent = `Downloading \"${filename}\": `;\n      div.appendChild(label);\n      const progress = document.createElement('progress');\n      progress.max = size;\n      div.appendChild(progress);\n      document.body.appendChild(div);\n\n      const buffers = [];\n      let downloaded = 0;\n\n      const channel = await google.colab.kernel.comms.open(id);\n      // Send a message to notify the kernel that we're ready.\n      channel.send({})\n\n      for await (const message of channel.messages) {\n        // Send a message to notify the kernel that we're ready.\n        channel.send({})\n        if (message.buffers) {\n          for (const buffer of message.buffers) {\n            buffers.push(buffer);\n            downloaded += buffer.byteLength;\n            progress.value = downloaded;\n          }\n        }\n      }\n      const blob = new Blob(buffers, {type: 'application/binary'});\n      const a = document.createElement('a');\n      a.href = window.URL.createObjectURL(blob);\n      a.download = filename;\n      div.appendChild(a);\n      a.click();\n      div.remove();\n    }\n  ",
            "text/plain": [
              "<IPython.core.display.Javascript object>"
            ]
          },
          "metadata": {},
          "output_type": "display_data"
        },
        {
          "data": {
            "application/javascript": "download(\"download_cb81d53c-8d08-42ee-8525-e41504bdb1ea\", \"20_082022___09_28_51.epub\", 82458)",
            "text/plain": [
              "<IPython.core.display.Javascript object>"
            ]
          },
          "metadata": {},
          "output_type": "display_data"
        }
      ],
      "source": [
        "files.download(fout)"
      ]
    },
    {
      "cell_type": "code",
      "execution_count": 11,
      "metadata": {
        "id": "fdQ1S1cMkMty"
      },
      "outputs": [],
      "source": [
        "send_to_kindle('quocdat25@gmail.com', '#####', 'quocdat25_new@kindle.com', fout)"
      ]
    },
    {
      "cell_type": "markdown",
      "metadata": {
        "id": "8Em38MyXrlsX"
      },
      "source": [
        "OBS"
      ]
    },
    {
      "cell_type": "code",
      "execution_count": null,
      "metadata": {
        "id": "Fb5V0MIwtrdn"
      },
      "outputs": [],
      "source": []
    }
  ],
  "metadata": {
    "colab": {
      "collapsed_sections": [],
      "name": "scrap_wired.ipynb",
      "provenance": []
    },
    "kernelspec": {
      "display_name": "Python 3.10.6 64-bit",
      "language": "python",
      "name": "python3"
    },
    "language_info": {
      "codemirror_mode": {
        "name": "ipython",
        "version": 3
      },
      "file_extension": ".py",
      "mimetype": "text/x-python",
      "name": "python",
      "nbconvert_exporter": "python",
      "pygments_lexer": "ipython3",
      "version": "3.10.6"
    },
    "orig_nbformat": 4,
    "vscode": {
      "interpreter": {
        "hash": "f1c7df7afdc56697602603bfc559c3808ee0a05d4e14eaec6f0101bf82b48fe7"
      }
    }
  },
  "nbformat": 4,
  "nbformat_minor": 0
}
