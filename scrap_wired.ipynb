{
 "cells": [
  {
   "cell_type": "code",
   "execution_count": 1,
   "metadata": {},
   "outputs": [],
   "source": [
    "import requests, uuid, json\n",
    "from time import sleep\n",
    "from tqdm import tqdm\n",
    "\n",
    "# Add your subscription key and endpoint\n",
    "subscription_key = \"1d79a0c2bf56409f8f63f51dc388dbe2\"\n",
    "endpoint = \"https://api.cognitive.microsofttranslator.com\"\n",
    "\n",
    "# Add your location, also known as region. The default is global.\n",
    "# This is required if using a Cognitive Services resource.\n",
    "location = \"eastus\"\n",
    "\n",
    "path = '/translate'\n",
    "constructed_url = endpoint + path\n",
    "\n",
    "params = {\n",
    "    'api-version': '3.0',\n",
    "    'from': 'en',\n",
    "    'to': 'vi',\n",
    "}\n",
    "constructed_url = endpoint + path\n",
    "\n",
    "headers = {\n",
    "    'Ocp-Apim-Subscription-Key': subscription_key,\n",
    "    'Ocp-Apim-Subscription-Region': location,\n",
    "    'Content-type': 'application/json',\n",
    "    'X-ClientTraceId': str(uuid.uuid4())\n",
    "}"
   ]
  },
  {
   "cell_type": "code",
   "execution_count": 2,
   "metadata": {},
   "outputs": [],
   "source": [
    "size_text = 0\n",
    "def by_microsoft(translation):\n",
    "    global size_text\n",
    "    size_text += len(translation)\n",
    "    body = [{\n",
    "        'text': translation, \n",
    "    }]\n",
    "\n",
    "    request = requests.post(constructed_url, params=params, headers=headers, json=body)\n",
    "    response = request.json()\n",
    "    response = response[0]['translations'][0]['text']\n",
    "    translated = []\n",
    "    eng = translation.split('.')\n",
    "    vi = response.split('.')\n",
    "    for i in range(len(eng)):\n",
    "        translated.append('\\n\\n\\n' + eng[i])\n",
    "        if i < len(vi):\n",
    "            translated.append('\\n\\n' + vi[i])\n",
    "    return '.'.join(translated)"
   ]
  },
  {
   "cell_type": "code",
   "execution_count": 3,
   "metadata": {},
   "outputs": [],
   "source": [
    "import requests\n",
    "from selenium import webdriver\n",
    "from selenium.webdriver.common.by import By\n",
    "from selenium.webdriver.common.keys import Keys\n",
    "from bs4 import BeautifulSoup\n",
    "from time import sleep\n",
    "import urllib.request\n",
    "import shutil\n",
    "\n",
    "import json\n",
    "import numpy as np\n",
    "import pandas as pd\n",
    "import re\n",
    "import os\n",
    "import retry\n",
    "import datetime\n",
    "\n",
    "driver = webdriver.Chrome()\n",
    "driver.get('https://www.wired.com/')\n",
    "\n",
    "def xpath_send_key(xpath_, string_):\n",
    "    driver.find_element(By.XPATH, xpath_).send_keys(string_)\n",
    "\n",
    "def xpath_click(xpath_):\n",
    "    driver.find_element(By.XPATH, xpath_).click()"
   ]
  },
  {
   "cell_type": "code",
   "execution_count": 4,
   "metadata": {},
   "outputs": [
    {
     "data": {
      "text/plain": [
       "{'/1994/09/moon-land/',\n",
       " '/2009/11/ff-vanish2/',\n",
       " '/gallery/best-electric-scooters',\n",
       " '/gallery/best-laptops/',\n",
       " '/gallery/best-monitors',\n",
       " '/gallery/best-office-chairs/',\n",
       " '/gallery/lawn-and-outdoor-games/',\n",
       " '/review/audio-technica-ath-m20xbt/',\n",
       " '/review/fluidfreeride-fluid-mosquito/',\n",
       " '/story/age-of-social-credit/',\n",
       " '/story/best-disposable-face-masks-n95-kn95-kf94-surgical',\n",
       " '/story/best-rapid-at-home-covid-19-test-kits/',\n",
       " '/story/big-business-burying-carbon-dioxide-capture-storage/',\n",
       " '/story/collective-intelligence-democracy/',\n",
       " '/story/david-wengrow-dawn-of-everything/',\n",
       " '/story/google-tv-home-workouts/',\n",
       " '/story/how-clean-is-clean-hydrogen/',\n",
       " '/story/how-to-create-secure-folder-phone',\n",
       " '/story/inside-google-three-years-misery-happiest-company-tech/',\n",
       " '/story/john-deere-tractor-jailbreak-defcon-2022/',\n",
       " '/story/karl-friston-free-energy-principle-artificial-intelligence/',\n",
       " '/story/media-climate-change-film/',\n",
       " '/story/meet-the-lobbyist-next-door/',\n",
       " '/story/particle-physicists-puzzle-over-a-new-duality',\n",
       " '/story/race-to-engineer-new-psychedelic-drugs/',\n",
       " '/story/the-double-life-of-invasive-sea-lampreys/',\n",
       " '/story/the-loneliness-of-the-junior-college-esports-coach/',\n",
       " '/story/the-psychology-of-inspiring-everyday-climate-action/',\n",
       " '/story/this-anti-tracking-tool-checks-if-youre-being-followed/',\n",
       " '/story/this-laser-firing-truck-could-help-make-hot-cities-more-livable/',\n",
       " '/story/va-vista-medical-records-flaw/',\n",
       " '/story/what-interventions-could-keep-climate-change-from-becoming-catastrophic/'}"
      ]
     },
     "execution_count": 4,
     "metadata": {},
     "output_type": "execute_result"
    }
   ],
   "source": [
    "soup = BeautifulSoup(driver.page_source, 'html.parser')\n",
    "articles = set()\n",
    "for s in soup.find_all('a', {'data-recirc-pattern': 'summary-item'}):\n",
    "    if 'https' not in s['href']:\n",
    "        articles.add(s['href'])\n",
    "articles"
   ]
  },
  {
   "cell_type": "code",
   "execution_count": 5,
   "metadata": {},
   "outputs": [],
   "source": [
    "def scrap_article():\n",
    "    soup = BeautifulSoup(driver.page_source, 'html.parser')\n",
    "    title = soup.find('main').find('h1').text\n",
    "\n",
    "    forbidden_char = ['<', '>', ':', '\"', \"'\", '/', '\\\\', '|', '?', '*']\n",
    "\n",
    "    file_name = title + '.txt'\n",
    "    for c in forbidden_char:\n",
    "        file_name = file_name.replace(c, '_')\n",
    "\n",
    "    if file_name in os.listdir('articles/'):\n",
    "        return\n",
    "\n",
    "    need_translatation = \"\"\n",
    "    for s in soup.find_all('div', {'class':'body__inner-container'}):\n",
    "        for paragraph in s.find_all('p'):\n",
    "            need_translatation += paragraph.text\n",
    "    try:\n",
    "        translated = by_microsoft(need_translatation)\n",
    "    except Exception as e:\n",
    "        print(e)\n",
    "        return\n",
    "\n",
    "    f = open('articles/' + file_name, 'w', encoding='utf-8')\n",
    "    f.write('# ' + title + '\\n')\n",
    "    f.write(translated)\n",
    "    f.close()"
   ]
  },
  {
   "cell_type": "code",
   "execution_count": 6,
   "metadata": {},
   "outputs": [
    {
     "name": "stderr",
     "output_type": "stream",
     "text": [
      "  0%|          | 0/32 [00:00<?, ?it/s]"
     ]
    },
    {
     "name": "stdout",
     "output_type": "stream",
     "text": [
      "/story/collective-intelligence-democracy/\n"
     ]
    },
    {
     "name": "stderr",
     "output_type": "stream",
     "text": [
      "  3%|▎         | 1/32 [00:08<04:30,  8.71s/it]"
     ]
    },
    {
     "name": "stdout",
     "output_type": "stream",
     "text": [
      "Không có n\n",
      "/story/the-loneliness-of-the-junior-college-esports-coach/\n"
     ]
    },
    {
     "name": "stderr",
     "output_type": "stream",
     "text": [
      "  6%|▋         | 2/32 [00:24<06:29, 12.99s/it]"
     ]
    },
    {
     "name": "stdout",
     "output_type": "stream",
     "text": [
      "Madison Ma\n",
      "/gallery/best-monitors\n"
     ]
    },
    {
     "name": "stderr",
     "output_type": "stream",
     "text": [
      "  9%|▉         | 3/32 [00:37<06:19, 13.08s/it]"
     ]
    },
    {
     "name": "stdout",
     "output_type": "stream",
     "text": [
      "\n",
      "/story/best-disposable-face-masks-n95-kn95-kf94-surgical\n"
     ]
    },
    {
     "name": "stderr",
     "output_type": "stream",
     "text": [
      " 12%|█▎        | 4/32 [00:53<06:30, 13.96s/it]"
     ]
    },
    {
     "name": "stdout",
     "output_type": "stream",
     "text": [
      "Nhiệm vụ đ\n",
      "/story/this-anti-tracking-tool-checks-if-youre-being-followed/\n"
     ]
    },
    {
     "name": "stderr",
     "output_type": "stream",
     "text": [
      " 16%|█▌        | 5/32 [01:01<05:25, 12.05s/it]"
     ]
    },
    {
     "name": "stdout",
     "output_type": "stream",
     "text": [
      "Matt Edmon\n",
      "/story/john-deere-tractor-jailbreak-defcon-2022/\n"
     ]
    },
    {
     "name": "stderr",
     "output_type": "stream",
     "text": [
      " 19%|█▉        | 6/32 [01:05<03:57,  9.13s/it]"
     ]
    },
    {
     "name": "stdout",
     "output_type": "stream",
     "text": [
      "nông dân t\n",
      "/story/race-to-engineer-new-psychedelic-drugs/\n"
     ]
    },
    {
     "name": "stderr",
     "output_type": "stream",
     "text": [
      " 22%|██▏       | 7/32 [01:12<03:30,  8.43s/it]"
     ]
    },
    {
     "name": "stdout",
     "output_type": "stream",
     "text": [
      "Đây là nhữ\n",
      "/story/google-tv-home-workouts/\n"
     ]
    },
    {
     "name": "stderr",
     "output_type": "stream",
     "text": [
      " 25%|██▌       | 8/32 [01:17<03:00,  7.52s/it]"
     ]
    },
    {
     "name": "stdout",
     "output_type": "stream",
     "text": [
      "/story/david-wengrow-dawn-of-everything/\n"
     ]
    },
    {
     "name": "stderr",
     "output_type": "stream",
     "text": [
      " 28%|██▊       | 9/32 [02:17<09:08, 23.85s/it]"
     ]
    },
    {
     "name": "stdout",
     "output_type": "stream",
     "text": [
      "/story/this-laser-firing-truck-could-help-make-hot-cities-more-livable/\n"
     ]
    },
    {
     "name": "stderr",
     "output_type": "stream",
     "text": [
      " 31%|███▏      | 10/32 [02:23<06:42, 18.29s/it]"
     ]
    },
    {
     "name": "stdout",
     "output_type": "stream",
     "text": [
      "Khi bạn th\n",
      "/story/age-of-social-credit/\n"
     ]
    },
    {
     "name": "stderr",
     "output_type": "stream",
     "text": [
      " 34%|███▍      | 11/32 [02:30<05:14, 14.96s/it]"
     ]
    },
    {
     "name": "stdout",
     "output_type": "stream",
     "text": [
      "Vào năm 20\n",
      "/1994/09/moon-land/\n"
     ]
    },
    {
     "name": "stderr",
     "output_type": "stream",
     "text": [
      " 38%|███▊      | 12/32 [02:37<04:10, 12.52s/it]"
     ]
    },
    {
     "name": "stdout",
     "output_type": "stream",
     "text": [
      "\"Columbia,\n",
      "/story/the-psychology-of-inspiring-everyday-climate-action/\n"
     ]
    },
    {
     "name": "stderr",
     "output_type": "stream",
     "text": [
      " 41%|████      | 13/32 [02:42<03:11, 10.09s/it]"
     ]
    },
    {
     "name": "stdout",
     "output_type": "stream",
     "text": [
      "Khi Kimber\n",
      "/story/what-interventions-could-keep-climate-change-from-becoming-catastrophic/\n"
     ]
    },
    {
     "name": "stderr",
     "output_type": "stream",
     "text": [
      " 44%|████▍     | 14/32 [02:47<02:34,  8.58s/it]"
     ]
    },
    {
     "name": "stdout",
     "output_type": "stream",
     "text": [
      "Tất cả chú\n",
      "/story/va-vista-medical-records-flaw/\n"
     ]
    },
    {
     "name": "stderr",
     "output_type": "stream",
     "text": [
      " 47%|████▋     | 15/32 [02:52<02:07,  7.49s/it]"
     ]
    },
    {
     "name": "stdout",
     "output_type": "stream",
     "text": [
      "Bộ Cựu chi\n",
      "/gallery/best-office-chairs/\n"
     ]
    },
    {
     "name": "stderr",
     "output_type": "stream",
     "text": [
      " 50%|█████     | 16/32 [03:18<03:28, 13.00s/it]"
     ]
    },
    {
     "name": "stdout",
     "output_type": "stream",
     "text": [
      "\n",
      "/review/audio-technica-ath-m20xbt/\n"
     ]
    },
    {
     "name": "stderr",
     "output_type": "stream",
     "text": [
      " 53%|█████▎    | 17/32 [03:22<02:34, 10.27s/it]"
     ]
    },
    {
     "name": "stdout",
     "output_type": "stream",
     "text": [
      "Với lạm ph\n",
      "/review/fluidfreeride-fluid-mosquito/\n"
     ]
    },
    {
     "name": "stderr",
     "output_type": "stream",
     "text": [
      " 56%|█████▋    | 18/32 [03:25<01:56,  8.30s/it]"
     ]
    },
    {
     "name": "stdout",
     "output_type": "stream",
     "text": [
      "Vào tháng \n",
      "/story/meet-the-lobbyist-next-door/\n"
     ]
    },
    {
     "name": "stderr",
     "output_type": "stream",
     "text": [
      " 59%|█████▉    | 19/32 [03:30<01:34,  7.31s/it]"
     ]
    },
    {
     "name": "stdout",
     "output_type": "stream",
     "text": [
      "Thoạt nhìn\n",
      "/gallery/best-laptops/\n"
     ]
    },
    {
     "name": "stderr",
     "output_type": "stream",
     "text": [
      " 62%|██████▎   | 20/32 [03:35<01:17,  6.48s/it]"
     ]
    },
    {
     "name": "stdout",
     "output_type": "stream",
     "text": [
      "\n",
      "/gallery/lawn-and-outdoor-games/\n"
     ]
    },
    {
     "name": "stderr",
     "output_type": "stream",
     "text": [
      " 66%|██████▌   | 21/32 [03:55<01:55, 10.48s/it]"
     ]
    },
    {
     "name": "stdout",
     "output_type": "stream",
     "text": [
      "\n",
      "/story/best-rapid-at-home-covid-19-test-kits/\n"
     ]
    },
    {
     "name": "stderr",
     "output_type": "stream",
     "text": [
      " 69%|██████▉   | 22/32 [04:04<01:41, 10.17s/it]"
     ]
    },
    {
     "name": "stdout",
     "output_type": "stream",
     "text": [
      "Đại dịch v\n",
      "/story/inside-google-three-years-misery-happiest-company-tech/\n"
     ]
    },
    {
     "name": "stderr",
     "output_type": "stream",
     "text": [
      " 69%|██████▉   | 22/32 [04:12<01:54, 11.50s/it]\n"
     ]
    },
    {
     "ename": "KeyError",
     "evalue": "0",
     "output_type": "error",
     "traceback": [
      "\u001b[1;31m---------------------------------------------------------------------------\u001b[0m",
      "\u001b[1;31mKeyError\u001b[0m                                  Traceback (most recent call last)",
      "\u001b[1;32m~\\AppData\\Local\\Temp/ipykernel_16436/2996256739.py\u001b[0m in \u001b[0;36m<module>\u001b[1;34m\u001b[0m\n\u001b[0;32m      5\u001b[0m     \u001b[1;32mif\u001b[0m \u001b[1;34m'I Accept'\u001b[0m \u001b[1;32min\u001b[0m \u001b[0mstr\u001b[0m\u001b[1;33m(\u001b[0m\u001b[0mBeautifulSoup\u001b[0m\u001b[1;33m(\u001b[0m\u001b[0mdriver\u001b[0m\u001b[1;33m.\u001b[0m\u001b[0mpage_source\u001b[0m\u001b[1;33m,\u001b[0m \u001b[1;34m'html.parser'\u001b[0m\u001b[1;33m)\u001b[0m\u001b[1;33m)\u001b[0m\u001b[1;33m:\u001b[0m\u001b[1;33m\u001b[0m\u001b[1;33m\u001b[0m\u001b[0m\n\u001b[0;32m      6\u001b[0m         \u001b[0mxpath_click\u001b[0m\u001b[1;33m(\u001b[0m\u001b[1;34m'//*[@id=\"onetrust-accept-btn-handler\"]'\u001b[0m\u001b[1;33m)\u001b[0m\u001b[1;33m\u001b[0m\u001b[1;33m\u001b[0m\u001b[0m\n\u001b[1;32m----> 7\u001b[1;33m     \u001b[0mscrap_article\u001b[0m\u001b[1;33m(\u001b[0m\u001b[1;33m)\u001b[0m\u001b[1;33m\u001b[0m\u001b[1;33m\u001b[0m\u001b[0m\n\u001b[0m\u001b[0;32m      8\u001b[0m \u001b[0msize_text\u001b[0m\u001b[1;33m\u001b[0m\u001b[1;33m\u001b[0m\u001b[0m\n",
      "\u001b[1;32m~\\AppData\\Local\\Temp/ipykernel_16436/2288244103.py\u001b[0m in \u001b[0;36mscrap_article\u001b[1;34m()\u001b[0m\n\u001b[0;32m     19\u001b[0m             \u001b[0mneed_translatation\u001b[0m \u001b[1;33m+=\u001b[0m \u001b[0mparagraph\u001b[0m\u001b[1;33m.\u001b[0m\u001b[0mtext\u001b[0m\u001b[1;33m\u001b[0m\u001b[1;33m\u001b[0m\u001b[0m\n\u001b[0;32m     20\u001b[0m \u001b[1;33m\u001b[0m\u001b[0m\n\u001b[1;32m---> 21\u001b[1;33m     \u001b[0mtranslated\u001b[0m \u001b[1;33m=\u001b[0m \u001b[0mby_microsoft\u001b[0m\u001b[1;33m(\u001b[0m\u001b[0mneed_translatation\u001b[0m\u001b[1;33m)\u001b[0m\u001b[1;33m\u001b[0m\u001b[1;33m\u001b[0m\u001b[0m\n\u001b[0m\u001b[0;32m     22\u001b[0m     \u001b[0mf\u001b[0m\u001b[1;33m.\u001b[0m\u001b[0mwrite\u001b[0m\u001b[1;33m(\u001b[0m\u001b[0mtranslated\u001b[0m\u001b[1;33m)\u001b[0m\u001b[1;33m\u001b[0m\u001b[1;33m\u001b[0m\u001b[0m\n\u001b[0;32m     23\u001b[0m     \u001b[0mf\u001b[0m\u001b[1;33m.\u001b[0m\u001b[0mclose\u001b[0m\u001b[1;33m(\u001b[0m\u001b[1;33m)\u001b[0m\u001b[1;33m\u001b[0m\u001b[1;33m\u001b[0m\u001b[0m\n",
      "\u001b[1;32m~\\AppData\\Local\\Temp/ipykernel_16436/4228651683.py\u001b[0m in \u001b[0;36mby_microsoft\u001b[1;34m(translation)\u001b[0m\n\u001b[0;32m      9\u001b[0m     \u001b[0mrequest\u001b[0m \u001b[1;33m=\u001b[0m \u001b[0mrequests\u001b[0m\u001b[1;33m.\u001b[0m\u001b[0mpost\u001b[0m\u001b[1;33m(\u001b[0m\u001b[0mconstructed_url\u001b[0m\u001b[1;33m,\u001b[0m \u001b[0mparams\u001b[0m\u001b[1;33m=\u001b[0m\u001b[0mparams\u001b[0m\u001b[1;33m,\u001b[0m \u001b[0mheaders\u001b[0m\u001b[1;33m=\u001b[0m\u001b[0mheaders\u001b[0m\u001b[1;33m,\u001b[0m \u001b[0mjson\u001b[0m\u001b[1;33m=\u001b[0m\u001b[0mbody\u001b[0m\u001b[1;33m)\u001b[0m\u001b[1;33m\u001b[0m\u001b[1;33m\u001b[0m\u001b[0m\n\u001b[0;32m     10\u001b[0m     \u001b[0mresponse\u001b[0m \u001b[1;33m=\u001b[0m \u001b[0mrequest\u001b[0m\u001b[1;33m.\u001b[0m\u001b[0mjson\u001b[0m\u001b[1;33m(\u001b[0m\u001b[1;33m)\u001b[0m\u001b[1;33m\u001b[0m\u001b[1;33m\u001b[0m\u001b[0m\n\u001b[1;32m---> 11\u001b[1;33m     \u001b[0mresponse\u001b[0m \u001b[1;33m=\u001b[0m \u001b[0mresponse\u001b[0m\u001b[1;33m[\u001b[0m\u001b[1;36m0\u001b[0m\u001b[1;33m]\u001b[0m\u001b[1;33m[\u001b[0m\u001b[1;34m'translations'\u001b[0m\u001b[1;33m]\u001b[0m\u001b[1;33m[\u001b[0m\u001b[1;36m0\u001b[0m\u001b[1;33m]\u001b[0m\u001b[1;33m[\u001b[0m\u001b[1;34m'text'\u001b[0m\u001b[1;33m]\u001b[0m\u001b[1;33m\u001b[0m\u001b[1;33m\u001b[0m\u001b[0m\n\u001b[0m\u001b[0;32m     12\u001b[0m     \u001b[0mprint\u001b[0m\u001b[1;33m(\u001b[0m\u001b[0mresponse\u001b[0m\u001b[1;33m[\u001b[0m\u001b[1;33m:\u001b[0m\u001b[1;36m10\u001b[0m\u001b[1;33m]\u001b[0m\u001b[1;33m)\u001b[0m\u001b[1;33m\u001b[0m\u001b[1;33m\u001b[0m\u001b[0m\n\u001b[0;32m     13\u001b[0m     \u001b[0mtranslated\u001b[0m \u001b[1;33m=\u001b[0m \u001b[1;33m[\u001b[0m\u001b[1;33m]\u001b[0m\u001b[1;33m\u001b[0m\u001b[1;33m\u001b[0m\u001b[0m\n",
      "\u001b[1;31mKeyError\u001b[0m: 0"
     ]
    }
   ],
   "source": [
    "based_url = 'https://www.wired.com'\n",
    "for article in tqdm(articles):\n",
    "    print(article)\n",
    "    driver.get(based_url + article)\n",
    "    if 'I Accept' in str(BeautifulSoup(driver.page_source, 'html.parser')):\n",
    "        xpath_click('//*[@id=\"onetrust-accept-btn-handler\"]')\n",
    "    scrap_article()\n",
    "size_text"
   ]
  }
 ],
 "metadata": {
  "kernelspec": {
   "display_name": "Python 3.10.0 64-bit",
   "language": "python",
   "name": "python3"
  },
  "language_info": {
   "codemirror_mode": {
    "name": "ipython",
    "version": 3
   },
   "file_extension": ".py",
   "mimetype": "text/x-python",
   "name": "python",
   "nbconvert_exporter": "python",
   "pygments_lexer": "ipython3",
   "version": "3.10.0"
  },
  "orig_nbformat": 4,
  "vscode": {
   "interpreter": {
    "hash": "658abd568f2aa5b6e1c67c3aa638649eedfdd0276a3efee14dcb15d0e94f8edd"
   }
  }
 },
 "nbformat": 4,
 "nbformat_minor": 2
}
